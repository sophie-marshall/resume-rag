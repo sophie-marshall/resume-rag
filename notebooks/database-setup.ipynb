{
 "cells": [
  {
   "cell_type": "markdown",
   "metadata": {},
   "source": [
    "# Database Setup\n",
    "\n",
    "**Goal:** Get semantic search up and running using Postgres and `pgvector`"
   ]
  },
  {
   "cell_type": "markdown",
   "metadata": {},
   "source": [
    "## Getting Started with RDS\n",
    "\n",
    "If you're just looking to experiment with vector search/RAG storing your embeddings in a local database will do just fine. If, however, you'd like to call on this database in another application, I'd be in your interest to host your database using a service like AWS. \n",
    "\n",
    "Getting started on AWS is easy: \n",
    "- Navigate to the RDS service page on the AWS Console\n",
    "- Create a new RDS Postgres instance, making sure that your instance is publically accessible\n",
    "- Review your VPC settings and ensure your inbound/outbound rules allow for the appropriate connections\n",
    "\n",
    "That's a high level overview, but it should get you 90% of the way there"
   ]
  },
  {
   "cell_type": "markdown",
   "metadata": {},
   "source": [
    "## Creating a Vector Enabled Database in Postgres\n",
    "\n",
    "This project will use a free-tier Postgres RDS instance on AWS to store embedded content for our RAG system. Postgres offers a native vector extension that will allow us to work with semantic search in a familiar database driver. Read more about it on the [`pgvector` repo page](https://github.com/pgvector/pgvector)\n",
    "\n",
    "After running the following commands, you're ready to start upserting embedded content into your vector database!"
   ]
  },
  {
   "cell_type": "code",
   "execution_count": null,
   "metadata": {
    "vscode": {
     "languageId": "sql"
    }
   },
   "outputs": [],
   "source": [
    "-- create a database for our rag system \n",
    "CREATE DATABASE resume_rag;"
   ]
  },
  {
   "cell_type": "code",
   "execution_count": null,
   "metadata": {
    "vscode": {
     "languageId": "sql"
    }
   },
   "outputs": [],
   "source": [
    "-- enable the vector extension \n",
    "CREATE EXTENSION vector;\n",
    "\n",
    "-- enable a simple uuid extension\n",
    "CREATE EXTENSION IF NOT EXISTS \"uuid-ossp\";"
   ]
  },
  {
   "cell_type": "code",
   "execution_count": null,
   "metadata": {
    "vscode": {
     "languageId": "sql"
    }
   },
   "outputs": [],
   "source": [
    "-- create a new table to store our vector embeddings\n",
    "CREATE TABLE content_embeddings (\n",
    "    uid UUID PRIMARY KEY DEFAULT uuid_generate_v4(), \n",
    "    document_id INTEGER,\n",
    "    chunk_id INTEGER,\n",
    "    tags TEXT,\n",
    "    clean_text TEXT,\n",
    "    embedding VECTOR (384)\n",
    ");"
   ]
  },
  {
   "cell_type": "code",
   "execution_count": null,
   "metadata": {
    "vscode": {
     "languageId": "sql"
    }
   },
   "outputs": [],
   "source": [
    "-- add a tsvector column for lexical search \n",
    "ALTER TABLE content_embeddings\n",
    "ADD COLUMN search_terms tsvector\n",
    "GENERATED ALWAYS AS (\n",
    "    to_tsvector('english', \n",
    "        COALESCE(clean_text, '') || ' ' || COALESCE(tags, ' ')\n",
    "    )\n",
    ") STORED;"
   ]
  },
  {
   "cell_type": "code",
   "execution_count": null,
   "metadata": {
    "vscode": {
     "languageId": "sql"
    }
   },
   "outputs": [],
   "source": [
    "-- create an index on our tsvector column \n",
    "CREATE INDEX lexicalsearch_index ON content_embeddings USING GIN (search_terms);"
   ]
  }
 ],
 "metadata": {
  "language_info": {
   "name": "python"
  }
 },
 "nbformat": 4,
 "nbformat_minor": 2
}
